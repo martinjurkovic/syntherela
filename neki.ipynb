{
 "cells": [
  {
   "cell_type": "code",
   "execution_count": 4,
   "metadata": {},
   "outputs": [],
   "source": [
    "import sdv\n",
    "import pandas"
   ]
  },
  {
   "cell_type": "code",
   "execution_count": null,
   "metadata": {},
   "outputs": [],
   "source": [
    "from sdv.datasets.demo import get_available_demos, download_demo\n",
    "sdv_relational_datasets = get_available_demos('multi_table')\n",
    "sdv_relational_datasets"
   ]
  },
  {
   "cell_type": "code",
   "execution_count": 7,
   "metadata": {},
   "outputs": [
    {
     "name": "stderr",
     "output_type": "stream",
     "text": [
      "/Users/martinjurkovic/.pyenv/versions/3.10.13/envs/relsyndgb/lib/python3.10/site-packages/sdv/datasets/local.py:34: UserWarning: Ignoring incompatible files ['metadata.json'] in folder 'data/downloads/Biodegradability_v1'.\n",
      "  warnings.warn(\n"
     ]
    }
   ],
   "source": [
    "from sdv.datasets.demo import get_available_demos, download_demo\n",
    "from sdv.datasets.local import load_csvs\n",
    "from sdv.metadata import MultiTableMetadata\n",
    "\n",
    "dataset_name = 'Biodegradability_v1'\n",
    "tables, metadata = download_demo('multi_table', dataset_name, output_folder_name=f'data/downloads/{dataset_name}')\n",
    "\n",
    "tables = load_csvs(f'data/downloads/{dataset_name}')\n"
   ]
  },
  {
   "cell_type": "code",
   "execution_count": 33,
   "metadata": {},
   "outputs": [],
   "source": [
    "metadata = MultiTableMetadata().load_from_json(f'data/downloads/{dataset_name}/metadata.json') "
   ]
  },
  {
   "cell_type": "code",
   "execution_count": 34,
   "metadata": {},
   "outputs": [
    {
     "name": "stderr",
     "output_type": "stream",
     "text": [
      "Preprocess Tables: 100%|██████████| 2/2 [00:05<00:00,  2.94s/it]\n"
     ]
    },
    {
     "name": "stdout",
     "output_type": "stream",
     "text": [
      "\n",
      "Learning relationships:\n"
     ]
    },
    {
     "name": "stderr",
     "output_type": "stream",
     "text": [
      "(1/1) Tables 'store' and 'historical' ('Store'):  18%|█▊        | 196/1115 [00:41<03:12,  4.77it/s]"
     ]
    }
   ],
   "source": [
    "from sdv.multi_table import HMASynthesizer\n",
    "\n",
    "model = HMASynthesizer(metadata)\n",
    "model.fit(tables)"
   ]
  },
  {
   "cell_type": "code",
   "execution_count": 13,
   "metadata": {},
   "outputs": [
    {
     "data": {
      "text/plain": [
       "'store'"
      ]
     },
     "execution_count": 13,
     "metadata": {},
     "output_type": "execute_result"
    }
   ],
   "source": [
    "metadata"
   ]
  },
  {
   "cell_type": "code",
   "execution_count": 1,
   "metadata": {},
   "outputs": [
    {
     "name": "stdout",
     "output_type": "stream",
     "text": [
      "Downloading Accidents_v1... "
     ]
    },
    {
     "name": "stderr",
     "output_type": "stream",
     "text": [
      "/Users/martinjurkovic/.pyenv/versions/3.10.13/envs/relsyndgb/lib/python3.10/site-packages/sdv/datasets/demo.py:91: DtypeWarning: Columns (8) have mixed types. Specify dtype option on import or set low_memory=False.\n",
      "  data[table_name] = pd.read_csv(data_path)\n",
      "/Users/martinjurkovic/.pyenv/versions/3.10.13/envs/relsyndgb/lib/python3.10/site-packages/sdv/datasets/demo.py:91: DtypeWarning: Columns (8) have mixed types. Specify dtype option on import or set low_memory=False.\n",
      "  data[table_name] = pd.read_csv(data_path)\n"
     ]
    },
    {
     "name": "stdout",
     "output_type": "stream",
     "text": [
      "Done.\n",
      "Downloading Atherosclerosis_v1... Done.\n",
      "Downloading AustralianFootball_v1... Done.\n",
      "Downloading Biodegradability_v1... Done.\n",
      "Downloading Bupa_v1... Done.\n",
      "Downloading CORA_v1... Done.\n",
      "Downloading Carcinogenesis_v1... Done.\n",
      "Downloading Chess_v1... Done.\n",
      "Downloading Countries_v1... Done.\n",
      "Downloading DCG_v1... Done.\n",
      "Downloading Dunur_v1... Done.\n",
      "Downloading Elti_v1... Done.\n",
      "Downloading FNHK_v1... Done.\n",
      "Downloading Facebook_v1... Done.\n",
      "Downloading Hepatitis_std_v1... Done.\n",
      "Downloading Mesh_v1... Done.\n",
      "Downloading Mooney_Family_v1... Done.\n",
      "Downloading MuskSmall_v1... Done.\n",
      "Downloading NBA_v1... Done.\n",
      "Downloading NCAA_v1... Done.\n",
      "Downloading PTE_v1... Done.\n",
      "Downloading Pima_v1... Done.\n",
      "Downloading PremierLeague_v1... Done.\n",
      "Downloading Pyrimidine_v1... Done.\n",
      "Downloading SAP_v1... Done.\n",
      "Downloading SAT_v1... Done.\n",
      "Downloading SalesDB_v1... Done.\n",
      "Downloading Same_gen_v1... Done.\n",
      "Downloading Student_loan_v1... Done.\n",
      "Downloading Telstra_v1... Done.\n",
      "Downloading Toxicology_v1... Done.\n",
      "Downloading Triazine_v1... Done.\n",
      "Downloading TubePricing_v1... Done.\n",
      "Downloading UTube_v1... Done.\n",
      "Downloading UW_std_v1... Done.\n",
      "Downloading WebKP_v1... Done.\n",
      "Downloading airbnb-simplified... Done.\n",
      "Downloading fake_hotels... Done.\n",
      "Downloading financial_v1... "
     ]
    },
    {
     "name": "stderr",
     "output_type": "stream",
     "text": [
      "/Users/martinjurkovic/.pyenv/versions/3.10.13/envs/relsyndgb/lib/python3.10/site-packages/sdv/datasets/demo.py:91: DtypeWarning: Columns (8) have mixed types. Specify dtype option on import or set low_memory=False.\n",
      "  data[table_name] = pd.read_csv(data_path)\n"
     ]
    },
    {
     "name": "stdout",
     "output_type": "stream",
     "text": [
      "Done.\n",
      "Downloading ftp_v1... Done.\n",
      "Downloading genes_v1... Done.\n",
      "Downloading got_families... Done.\n",
      "Downloading imdb_MovieLens_v1... Done.\n",
      "Downloading imdb_ijs_v1... Done.\n",
      "Downloading imdb_small_v1... Done.\n",
      "Downloading legalActs_v1... Done.\n",
      "Downloading mutagenesis_v1... Done.\n",
      "Downloading nations_v1... Done.\n",
      "Downloading restbase_v1... Done.\n",
      "Downloading rossmann... "
     ]
    },
    {
     "name": "stderr",
     "output_type": "stream",
     "text": [
      "/Users/martinjurkovic/.pyenv/versions/3.10.13/envs/relsyndgb/lib/python3.10/site-packages/sdv/datasets/demo.py:91: DtypeWarning: Columns (7) have mixed types. Specify dtype option on import or set low_memory=False.\n",
      "  data[table_name] = pd.read_csv(data_path)\n"
     ]
    },
    {
     "name": "stdout",
     "output_type": "stream",
     "text": [
      "Done.\n",
      "Downloading trains_v1... Done.\n",
      "Downloading university_v1... Done.\n",
      "Downloading walmart... Done.\n",
      "Downloading world_v1... Done.\n"
     ]
    }
   ],
   "source": [
    "from sdv.datasets.demo import get_available_demos, download_demo\n",
    "\n",
    "sdv_relational_datasets = get_available_demos('multi_table')\n",
    "\n",
    "# iterate through the dataframe\n",
    "for dataset_name in sdv_relational_datasets.dataset_name:\n",
    "    print(f'Downloading {dataset_name}...', end=' ')\n",
    "    # TODO: data/downloads or data/original\n",
    "    download_demo('multi_table', dataset_name, output_folder_name=f'data/downloads/{dataset_name}')\n",
    "    print('Done.')"
   ]
  }
 ],
 "metadata": {
  "kernelspec": {
   "display_name": "relsyndgb",
   "language": "python",
   "name": "python3"
  },
  "language_info": {
   "codemirror_mode": {
    "name": "ipython",
    "version": 3
   },
   "file_extension": ".py",
   "mimetype": "text/x-python",
   "name": "python",
   "nbconvert_exporter": "python",
   "pygments_lexer": "ipython3",
   "version": "3.10.13"
  }
 },
 "nbformat": 4,
 "nbformat_minor": 2
}
